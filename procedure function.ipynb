{
 "cells": [
  {
   "cell_type": "code",
   "execution_count": 5,
   "metadata": {},
   "outputs": [
    {
     "name": "stdout",
     "output_type": "stream",
     "text": [
      "7\n"
     ]
    }
   ],
   "source": [
    "#defining sum function\n",
    "def sum (a,b):\n",
    "    return a+b\n",
    "#calling sum function\n",
    "print(sum(3,4))"
   ]
  },
  {
   "cell_type": "code",
   "execution_count": 4,
   "metadata": {},
   "outputs": [
    {
     "name": "stdout",
     "output_type": "stream",
     "text": [
      "32\n"
     ]
    }
   ],
   "source": [
    "#defining multiply function\n",
    "def mul (a,b):\n",
    "    return a*b\n",
    "#calling the function\n",
    "print(mul(4,8))"
   ]
  },
  {
   "cell_type": "code",
   "execution_count": 6,
   "metadata": {},
   "outputs": [
    {
     "name": "stdout",
     "output_type": "stream",
     "text": [
      "30\n"
     ]
    }
   ],
   "source": [
    "def sub(a,b):\n",
    "    return b-a\n",
    "print(sub(10,40))"
   ]
  },
  {
   "cell_type": "code",
   "execution_count": 9,
   "metadata": {},
   "outputs": [
    {
     "name": "stdout",
     "output_type": "stream",
     "text": [
      "Enter the 1st no. 10\n",
      "Enter the 2nd no. 20\n",
      "The sum of two no. is 30\n"
     ]
    }
   ],
   "source": [
    "def sum (a,b):\n",
    "    return a+b\n",
    "x=input(\"Enter the 1st no. \")\n",
    "y=input(\"Enter the 2nd no. \")\n",
    "print(\"The sum of two no. is \"+str(sum(int (x),int(y))))"
   ]
  },
  {
   "cell_type": "code",
   "execution_count": 11,
   "metadata": {},
   "outputs": [
    {
     "name": "stdout",
     "output_type": "stream",
     "text": [
      "adarsh mishra\n"
     ]
    }
   ],
   "source": [
    "def strings(a,b):\n",
    "    return a+b\n",
    "print(strings(\"adarsh\",\" mishra\"))"
   ]
  },
  {
   "cell_type": "code",
   "execution_count": null,
   "metadata": {},
   "outputs": [],
   "source": []
  }
 ],
 "metadata": {
  "kernelspec": {
   "display_name": "Python 3",
   "language": "python",
   "name": "python3"
  },
  "language_info": {
   "codemirror_mode": {
    "name": "ipython",
    "version": 3
   },
   "file_extension": ".py",
   "mimetype": "text/x-python",
   "name": "python",
   "nbconvert_exporter": "python",
   "pygments_lexer": "ipython3",
   "version": "3.6.3"
  }
 },
 "nbformat": 4,
 "nbformat_minor": 2
}
