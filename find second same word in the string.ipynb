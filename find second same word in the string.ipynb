{
 "cells": [
  {
   "cell_type": "code",
   "execution_count": 3,
   "metadata": {},
   "outputs": [
    {
     "name": "stdout",
     "output_type": "stream",
     "text": [
      "input the whole sentence :best person best one\n",
      "which word 2nd position you want to find in sentence: best\n",
      "-1\n"
     ]
    }
   ],
   "source": [
    "def position2(search,target):\n",
    "    x=search.find(target)\n",
    "    return search.find(target,x+1)\n",
    "sentence=input(\"input the whole sentence :\" )\n",
    "target=input(\"which word 2nd position you want to find in sentence: \")\n",
    "print(position2(sentence,\"target\"))"
   ]
  },
  {
   "cell_type": "code",
   "execution_count": null,
   "metadata": {},
   "outputs": [],
   "source": []
  }
 ],
 "metadata": {
  "kernelspec": {
   "display_name": "Python 3",
   "language": "python",
   "name": "python3"
  },
  "language_info": {
   "codemirror_mode": {
    "name": "ipython",
    "version": 3
   },
   "file_extension": ".py",
   "mimetype": "text/x-python",
   "name": "python",
   "nbconvert_exporter": "python",
   "pygments_lexer": "ipython3",
   "version": "3.6.3"
  }
 },
 "nbformat": 4,
 "nbformat_minor": 2
}
