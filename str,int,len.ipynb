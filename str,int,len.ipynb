{
 "cells": [
  {
   "cell_type": "code",
   "execution_count": 1,
   "metadata": {},
   "outputs": [
    {
     "name": "stdout",
     "output_type": "stream",
     "text": [
      "hello\n",
      "what is your name :adars\n",
      "your name length is 5\n",
      "what is your age 10\n",
      "your age will be in 1 year 11\n"
     ]
    }
   ],
   "source": [
    "print(\"hello\")\n",
    "name=input(\"what is your name :\")\n",
    "print(\"your name length is \" +str(len(name)))\n",
    "age=input(\"what is your age \")\n",
    "print(\"your age will be in 1 year \" +str(int(age)+1))"
   ]
  },
  {
   "cell_type": "code",
   "execution_count": 2,
   "metadata": {},
   "outputs": [
    {
     "name": "stdout",
     "output_type": "stream",
     "text": [
      "hello\n",
      "what is your name :adarsh\n",
      "your name is adarsh\n"
     ]
    }
   ],
   "source": [
    "print(\"hello\")\n",
    "name=input(\"what is your name :\")\n",
    "print(\"your name is \" +name)"
   ]
  },
  {
   "cell_type": "code",
   "execution_count": 3,
   "metadata": {},
   "outputs": [
    {
     "name": "stdout",
     "output_type": "stream",
     "text": [
      "welcome to the sum of two no.s program\n",
      "Enter the first no. 10\n",
      "Enter the second no. 30\n",
      "The sum  of two no. is 40\n"
     ]
    }
   ],
   "source": [
    "print(\"welcome to the sum of two no.s program\")\n",
    "x=input(\"Enter the first no. \")\n",
    "y=input(\"Enter the second no. \")\n",
    "sum=str(int(x)+int(y))\n",
    "print(\"The sum  of two no. is \" +sum)"
   ]
  },
  {
   "cell_type": "code",
   "execution_count": null,
   "metadata": {},
   "outputs": [],
   "source": []
  }
 ],
 "metadata": {
  "kernelspec": {
   "display_name": "Python 3",
   "language": "python",
   "name": "python3"
  },
  "language_info": {
   "codemirror_mode": {
    "name": "ipython",
    "version": 3
   },
   "file_extension": ".py",
   "mimetype": "text/x-python",
   "name": "python",
   "nbconvert_exporter": "python",
   "pygments_lexer": "ipython3",
   "version": "3.6.3"
  }
 },
 "nbformat": 4,
 "nbformat_minor": 2
}
